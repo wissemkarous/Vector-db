{
  "nbformat": 4,
  "nbformat_minor": 0,
  "metadata": {
    "colab": {
      "provenance": [],
      "gpuType": "V100"
    },
    "kernelspec": {
      "name": "python3",
      "display_name": "Python 3"
    },
    "language_info": {
      "name": "python"
    },
    "accelerator": "GPU",
    "widgets": {
      "application/vnd.jupyter.widget-state+json": {
        "2ec36fa102c24e2eb725b1a4d400d86d": {
          "model_module": "@jupyter-widgets/controls",
          "model_name": "HBoxModel",
          "model_module_version": "1.5.0",
          "state": {
            "_dom_classes": [],
            "_model_module": "@jupyter-widgets/controls",
            "_model_module_version": "1.5.0",
            "_model_name": "HBoxModel",
            "_view_count": null,
            "_view_module": "@jupyter-widgets/controls",
            "_view_module_version": "1.5.0",
            "_view_name": "HBoxView",
            "box_style": "",
            "children": [
              "IPY_MODEL_c0c7cef675a04a55b1152fab12cf804c",
              "IPY_MODEL_7b5306cc30c5475180de8a718a94308f",
              "IPY_MODEL_74a84fb598f443e1bff8968b5855cfdc"
            ],
            "layout": "IPY_MODEL_9b552146a41449ecb2cd86a8aa474c9e"
          }
        },
        "c0c7cef675a04a55b1152fab12cf804c": {
          "model_module": "@jupyter-widgets/controls",
          "model_name": "HTMLModel",
          "model_module_version": "1.5.0",
          "state": {
            "_dom_classes": [],
            "_model_module": "@jupyter-widgets/controls",
            "_model_module_version": "1.5.0",
            "_model_name": "HTMLModel",
            "_view_count": null,
            "_view_module": "@jupyter-widgets/controls",
            "_view_module_version": "1.5.0",
            "_view_name": "HTMLView",
            "description": "",
            "description_tooltip": null,
            "layout": "IPY_MODEL_3398b030fbab4c1d897f29c6598be793",
            "placeholder": "​",
            "style": "IPY_MODEL_dd58a0b7b6ca4e8c8ae3998a0f56f714",
            "value": "Batches: 100%"
          }
        },
        "7b5306cc30c5475180de8a718a94308f": {
          "model_module": "@jupyter-widgets/controls",
          "model_name": "FloatProgressModel",
          "model_module_version": "1.5.0",
          "state": {
            "_dom_classes": [],
            "_model_module": "@jupyter-widgets/controls",
            "_model_module_version": "1.5.0",
            "_model_name": "FloatProgressModel",
            "_view_count": null,
            "_view_module": "@jupyter-widgets/controls",
            "_view_module_version": "1.5.0",
            "_view_name": "ProgressView",
            "bar_style": "success",
            "description": "",
            "description_tooltip": null,
            "layout": "IPY_MODEL_1df2cb5ce09341a48c398d0603f3db1c",
            "max": 1064,
            "min": 0,
            "orientation": "horizontal",
            "style": "IPY_MODEL_888ca6dc51e2426f9f8270dea108712e",
            "value": 1064
          }
        },
        "74a84fb598f443e1bff8968b5855cfdc": {
          "model_module": "@jupyter-widgets/controls",
          "model_name": "HTMLModel",
          "model_module_version": "1.5.0",
          "state": {
            "_dom_classes": [],
            "_model_module": "@jupyter-widgets/controls",
            "_model_module_version": "1.5.0",
            "_model_name": "HTMLModel",
            "_view_count": null,
            "_view_module": "@jupyter-widgets/controls",
            "_view_module_version": "1.5.0",
            "_view_name": "HTMLView",
            "description": "",
            "description_tooltip": null,
            "layout": "IPY_MODEL_30e4d8adbcf041e9a793a514707e9e90",
            "placeholder": "​",
            "style": "IPY_MODEL_3c35aa3814c34cfd96743630625fe726",
            "value": " 1064/1064 [00:59&lt;00:00, 51.28it/s]"
          }
        },
        "9b552146a41449ecb2cd86a8aa474c9e": {
          "model_module": "@jupyter-widgets/base",
          "model_name": "LayoutModel",
          "model_module_version": "1.2.0",
          "state": {
            "_model_module": "@jupyter-widgets/base",
            "_model_module_version": "1.2.0",
            "_model_name": "LayoutModel",
            "_view_count": null,
            "_view_module": "@jupyter-widgets/base",
            "_view_module_version": "1.2.0",
            "_view_name": "LayoutView",
            "align_content": null,
            "align_items": null,
            "align_self": null,
            "border": null,
            "bottom": null,
            "display": null,
            "flex": null,
            "flex_flow": null,
            "grid_area": null,
            "grid_auto_columns": null,
            "grid_auto_flow": null,
            "grid_auto_rows": null,
            "grid_column": null,
            "grid_gap": null,
            "grid_row": null,
            "grid_template_areas": null,
            "grid_template_columns": null,
            "grid_template_rows": null,
            "height": null,
            "justify_content": null,
            "justify_items": null,
            "left": null,
            "margin": null,
            "max_height": null,
            "max_width": null,
            "min_height": null,
            "min_width": null,
            "object_fit": null,
            "object_position": null,
            "order": null,
            "overflow": null,
            "overflow_x": null,
            "overflow_y": null,
            "padding": null,
            "right": null,
            "top": null,
            "visibility": null,
            "width": null
          }
        },
        "3398b030fbab4c1d897f29c6598be793": {
          "model_module": "@jupyter-widgets/base",
          "model_name": "LayoutModel",
          "model_module_version": "1.2.0",
          "state": {
            "_model_module": "@jupyter-widgets/base",
            "_model_module_version": "1.2.0",
            "_model_name": "LayoutModel",
            "_view_count": null,
            "_view_module": "@jupyter-widgets/base",
            "_view_module_version": "1.2.0",
            "_view_name": "LayoutView",
            "align_content": null,
            "align_items": null,
            "align_self": null,
            "border": null,
            "bottom": null,
            "display": null,
            "flex": null,
            "flex_flow": null,
            "grid_area": null,
            "grid_auto_columns": null,
            "grid_auto_flow": null,
            "grid_auto_rows": null,
            "grid_column": null,
            "grid_gap": null,
            "grid_row": null,
            "grid_template_areas": null,
            "grid_template_columns": null,
            "grid_template_rows": null,
            "height": null,
            "justify_content": null,
            "justify_items": null,
            "left": null,
            "margin": null,
            "max_height": null,
            "max_width": null,
            "min_height": null,
            "min_width": null,
            "object_fit": null,
            "object_position": null,
            "order": null,
            "overflow": null,
            "overflow_x": null,
            "overflow_y": null,
            "padding": null,
            "right": null,
            "top": null,
            "visibility": null,
            "width": null
          }
        },
        "dd58a0b7b6ca4e8c8ae3998a0f56f714": {
          "model_module": "@jupyter-widgets/controls",
          "model_name": "DescriptionStyleModel",
          "model_module_version": "1.5.0",
          "state": {
            "_model_module": "@jupyter-widgets/controls",
            "_model_module_version": "1.5.0",
            "_model_name": "DescriptionStyleModel",
            "_view_count": null,
            "_view_module": "@jupyter-widgets/base",
            "_view_module_version": "1.2.0",
            "_view_name": "StyleView",
            "description_width": ""
          }
        },
        "1df2cb5ce09341a48c398d0603f3db1c": {
          "model_module": "@jupyter-widgets/base",
          "model_name": "LayoutModel",
          "model_module_version": "1.2.0",
          "state": {
            "_model_module": "@jupyter-widgets/base",
            "_model_module_version": "1.2.0",
            "_model_name": "LayoutModel",
            "_view_count": null,
            "_view_module": "@jupyter-widgets/base",
            "_view_module_version": "1.2.0",
            "_view_name": "LayoutView",
            "align_content": null,
            "align_items": null,
            "align_self": null,
            "border": null,
            "bottom": null,
            "display": null,
            "flex": null,
            "flex_flow": null,
            "grid_area": null,
            "grid_auto_columns": null,
            "grid_auto_flow": null,
            "grid_auto_rows": null,
            "grid_column": null,
            "grid_gap": null,
            "grid_row": null,
            "grid_template_areas": null,
            "grid_template_columns": null,
            "grid_template_rows": null,
            "height": null,
            "justify_content": null,
            "justify_items": null,
            "left": null,
            "margin": null,
            "max_height": null,
            "max_width": null,
            "min_height": null,
            "min_width": null,
            "object_fit": null,
            "object_position": null,
            "order": null,
            "overflow": null,
            "overflow_x": null,
            "overflow_y": null,
            "padding": null,
            "right": null,
            "top": null,
            "visibility": null,
            "width": null
          }
        },
        "888ca6dc51e2426f9f8270dea108712e": {
          "model_module": "@jupyter-widgets/controls",
          "model_name": "ProgressStyleModel",
          "model_module_version": "1.5.0",
          "state": {
            "_model_module": "@jupyter-widgets/controls",
            "_model_module_version": "1.5.0",
            "_model_name": "ProgressStyleModel",
            "_view_count": null,
            "_view_module": "@jupyter-widgets/base",
            "_view_module_version": "1.2.0",
            "_view_name": "StyleView",
            "bar_color": null,
            "description_width": ""
          }
        },
        "30e4d8adbcf041e9a793a514707e9e90": {
          "model_module": "@jupyter-widgets/base",
          "model_name": "LayoutModel",
          "model_module_version": "1.2.0",
          "state": {
            "_model_module": "@jupyter-widgets/base",
            "_model_module_version": "1.2.0",
            "_model_name": "LayoutModel",
            "_view_count": null,
            "_view_module": "@jupyter-widgets/base",
            "_view_module_version": "1.2.0",
            "_view_name": "LayoutView",
            "align_content": null,
            "align_items": null,
            "align_self": null,
            "border": null,
            "bottom": null,
            "display": null,
            "flex": null,
            "flex_flow": null,
            "grid_area": null,
            "grid_auto_columns": null,
            "grid_auto_flow": null,
            "grid_auto_rows": null,
            "grid_column": null,
            "grid_gap": null,
            "grid_row": null,
            "grid_template_areas": null,
            "grid_template_columns": null,
            "grid_template_rows": null,
            "height": null,
            "justify_content": null,
            "justify_items": null,
            "left": null,
            "margin": null,
            "max_height": null,
            "max_width": null,
            "min_height": null,
            "min_width": null,
            "object_fit": null,
            "object_position": null,
            "order": null,
            "overflow": null,
            "overflow_x": null,
            "overflow_y": null,
            "padding": null,
            "right": null,
            "top": null,
            "visibility": null,
            "width": null
          }
        },
        "3c35aa3814c34cfd96743630625fe726": {
          "model_module": "@jupyter-widgets/controls",
          "model_name": "DescriptionStyleModel",
          "model_module_version": "1.5.0",
          "state": {
            "_model_module": "@jupyter-widgets/controls",
            "_model_module_version": "1.5.0",
            "_model_name": "DescriptionStyleModel",
            "_view_count": null,
            "_view_module": "@jupyter-widgets/base",
            "_view_module_version": "1.2.0",
            "_view_name": "StyleView",
            "description_width": ""
          }
        },
        "d04646c54f6e44db9576265f705fd2f7": {
          "model_module": "@jupyter-widgets/controls",
          "model_name": "HBoxModel",
          "model_module_version": "1.5.0",
          "state": {
            "_dom_classes": [],
            "_model_module": "@jupyter-widgets/controls",
            "_model_module_version": "1.5.0",
            "_model_name": "HBoxModel",
            "_view_count": null,
            "_view_module": "@jupyter-widgets/controls",
            "_view_module_version": "1.5.0",
            "_view_name": "HBoxView",
            "box_style": "",
            "children": [
              "IPY_MODEL_9e40f5fe9c0b416a96ea4e09e7ccb8bf",
              "IPY_MODEL_d53144aa894d402ea23bff5ba7971b3f",
              "IPY_MODEL_3b4270e717eb47b68e7f6adbee686631"
            ],
            "layout": "IPY_MODEL_a9c36e61b5af4fe9901128b81c2f549c"
          }
        },
        "9e40f5fe9c0b416a96ea4e09e7ccb8bf": {
          "model_module": "@jupyter-widgets/controls",
          "model_name": "HTMLModel",
          "model_module_version": "1.5.0",
          "state": {
            "_dom_classes": [],
            "_model_module": "@jupyter-widgets/controls",
            "_model_module_version": "1.5.0",
            "_model_name": "HTMLModel",
            "_view_count": null,
            "_view_module": "@jupyter-widgets/controls",
            "_view_module_version": "1.5.0",
            "_view_name": "HTMLView",
            "description": "",
            "description_tooltip": null,
            "layout": "IPY_MODEL_e55a4072c85947c8bd4b92f6c5127f44",
            "placeholder": "​",
            "style": "IPY_MODEL_d5b8766dc4854e2c9ad1bb1e414a85f7",
            "value": "Batches: 100%"
          }
        },
        "d53144aa894d402ea23bff5ba7971b3f": {
          "model_module": "@jupyter-widgets/controls",
          "model_name": "FloatProgressModel",
          "model_module_version": "1.5.0",
          "state": {
            "_dom_classes": [],
            "_model_module": "@jupyter-widgets/controls",
            "_model_module_version": "1.5.0",
            "_model_name": "FloatProgressModel",
            "_view_count": null,
            "_view_module": "@jupyter-widgets/controls",
            "_view_module_version": "1.5.0",
            "_view_name": "ProgressView",
            "bar_style": "success",
            "description": "",
            "description_tooltip": null,
            "layout": "IPY_MODEL_ab1c7d6f2b904e9087c78958266e5098",
            "max": 127,
            "min": 0,
            "orientation": "horizontal",
            "style": "IPY_MODEL_62053945c0834542bea1e6e1fa2df36c",
            "value": 127
          }
        },
        "3b4270e717eb47b68e7f6adbee686631": {
          "model_module": "@jupyter-widgets/controls",
          "model_name": "HTMLModel",
          "model_module_version": "1.5.0",
          "state": {
            "_dom_classes": [],
            "_model_module": "@jupyter-widgets/controls",
            "_model_module_version": "1.5.0",
            "_model_name": "HTMLModel",
            "_view_count": null,
            "_view_module": "@jupyter-widgets/controls",
            "_view_module_version": "1.5.0",
            "_view_name": "HTMLView",
            "description": "",
            "description_tooltip": null,
            "layout": "IPY_MODEL_3193d090fbd8418ebbafc12b77998444",
            "placeholder": "​",
            "style": "IPY_MODEL_f0a7ba18ea6b4e9d85e173828556d590",
            "value": " 127/127 [00:01&lt;00:00, 114.39it/s]"
          }
        },
        "a9c36e61b5af4fe9901128b81c2f549c": {
          "model_module": "@jupyter-widgets/base",
          "model_name": "LayoutModel",
          "model_module_version": "1.2.0",
          "state": {
            "_model_module": "@jupyter-widgets/base",
            "_model_module_version": "1.2.0",
            "_model_name": "LayoutModel",
            "_view_count": null,
            "_view_module": "@jupyter-widgets/base",
            "_view_module_version": "1.2.0",
            "_view_name": "LayoutView",
            "align_content": null,
            "align_items": null,
            "align_self": null,
            "border": null,
            "bottom": null,
            "display": null,
            "flex": null,
            "flex_flow": null,
            "grid_area": null,
            "grid_auto_columns": null,
            "grid_auto_flow": null,
            "grid_auto_rows": null,
            "grid_column": null,
            "grid_gap": null,
            "grid_row": null,
            "grid_template_areas": null,
            "grid_template_columns": null,
            "grid_template_rows": null,
            "height": null,
            "justify_content": null,
            "justify_items": null,
            "left": null,
            "margin": null,
            "max_height": null,
            "max_width": null,
            "min_height": null,
            "min_width": null,
            "object_fit": null,
            "object_position": null,
            "order": null,
            "overflow": null,
            "overflow_x": null,
            "overflow_y": null,
            "padding": null,
            "right": null,
            "top": null,
            "visibility": null,
            "width": null
          }
        },
        "e55a4072c85947c8bd4b92f6c5127f44": {
          "model_module": "@jupyter-widgets/base",
          "model_name": "LayoutModel",
          "model_module_version": "1.2.0",
          "state": {
            "_model_module": "@jupyter-widgets/base",
            "_model_module_version": "1.2.0",
            "_model_name": "LayoutModel",
            "_view_count": null,
            "_view_module": "@jupyter-widgets/base",
            "_view_module_version": "1.2.0",
            "_view_name": "LayoutView",
            "align_content": null,
            "align_items": null,
            "align_self": null,
            "border": null,
            "bottom": null,
            "display": null,
            "flex": null,
            "flex_flow": null,
            "grid_area": null,
            "grid_auto_columns": null,
            "grid_auto_flow": null,
            "grid_auto_rows": null,
            "grid_column": null,
            "grid_gap": null,
            "grid_row": null,
            "grid_template_areas": null,
            "grid_template_columns": null,
            "grid_template_rows": null,
            "height": null,
            "justify_content": null,
            "justify_items": null,
            "left": null,
            "margin": null,
            "max_height": null,
            "max_width": null,
            "min_height": null,
            "min_width": null,
            "object_fit": null,
            "object_position": null,
            "order": null,
            "overflow": null,
            "overflow_x": null,
            "overflow_y": null,
            "padding": null,
            "right": null,
            "top": null,
            "visibility": null,
            "width": null
          }
        },
        "d5b8766dc4854e2c9ad1bb1e414a85f7": {
          "model_module": "@jupyter-widgets/controls",
          "model_name": "DescriptionStyleModel",
          "model_module_version": "1.5.0",
          "state": {
            "_model_module": "@jupyter-widgets/controls",
            "_model_module_version": "1.5.0",
            "_model_name": "DescriptionStyleModel",
            "_view_count": null,
            "_view_module": "@jupyter-widgets/base",
            "_view_module_version": "1.2.0",
            "_view_name": "StyleView",
            "description_width": ""
          }
        },
        "ab1c7d6f2b904e9087c78958266e5098": {
          "model_module": "@jupyter-widgets/base",
          "model_name": "LayoutModel",
          "model_module_version": "1.2.0",
          "state": {
            "_model_module": "@jupyter-widgets/base",
            "_model_module_version": "1.2.0",
            "_model_name": "LayoutModel",
            "_view_count": null,
            "_view_module": "@jupyter-widgets/base",
            "_view_module_version": "1.2.0",
            "_view_name": "LayoutView",
            "align_content": null,
            "align_items": null,
            "align_self": null,
            "border": null,
            "bottom": null,
            "display": null,
            "flex": null,
            "flex_flow": null,
            "grid_area": null,
            "grid_auto_columns": null,
            "grid_auto_flow": null,
            "grid_auto_rows": null,
            "grid_column": null,
            "grid_gap": null,
            "grid_row": null,
            "grid_template_areas": null,
            "grid_template_columns": null,
            "grid_template_rows": null,
            "height": null,
            "justify_content": null,
            "justify_items": null,
            "left": null,
            "margin": null,
            "max_height": null,
            "max_width": null,
            "min_height": null,
            "min_width": null,
            "object_fit": null,
            "object_position": null,
            "order": null,
            "overflow": null,
            "overflow_x": null,
            "overflow_y": null,
            "padding": null,
            "right": null,
            "top": null,
            "visibility": null,
            "width": null
          }
        },
        "62053945c0834542bea1e6e1fa2df36c": {
          "model_module": "@jupyter-widgets/controls",
          "model_name": "ProgressStyleModel",
          "model_module_version": "1.5.0",
          "state": {
            "_model_module": "@jupyter-widgets/controls",
            "_model_module_version": "1.5.0",
            "_model_name": "ProgressStyleModel",
            "_view_count": null,
            "_view_module": "@jupyter-widgets/base",
            "_view_module_version": "1.2.0",
            "_view_name": "StyleView",
            "bar_color": null,
            "description_width": ""
          }
        },
        "3193d090fbd8418ebbafc12b77998444": {
          "model_module": "@jupyter-widgets/base",
          "model_name": "LayoutModel",
          "model_module_version": "1.2.0",
          "state": {
            "_model_module": "@jupyter-widgets/base",
            "_model_module_version": "1.2.0",
            "_model_name": "LayoutModel",
            "_view_count": null,
            "_view_module": "@jupyter-widgets/base",
            "_view_module_version": "1.2.0",
            "_view_name": "LayoutView",
            "align_content": null,
            "align_items": null,
            "align_self": null,
            "border": null,
            "bottom": null,
            "display": null,
            "flex": null,
            "flex_flow": null,
            "grid_area": null,
            "grid_auto_columns": null,
            "grid_auto_flow": null,
            "grid_auto_rows": null,
            "grid_column": null,
            "grid_gap": null,
            "grid_row": null,
            "grid_template_areas": null,
            "grid_template_columns": null,
            "grid_template_rows": null,
            "height": null,
            "justify_content": null,
            "justify_items": null,
            "left": null,
            "margin": null,
            "max_height": null,
            "max_width": null,
            "min_height": null,
            "min_width": null,
            "object_fit": null,
            "object_position": null,
            "order": null,
            "overflow": null,
            "overflow_x": null,
            "overflow_y": null,
            "padding": null,
            "right": null,
            "top": null,
            "visibility": null,
            "width": null
          }
        },
        "f0a7ba18ea6b4e9d85e173828556d590": {
          "model_module": "@jupyter-widgets/controls",
          "model_name": "DescriptionStyleModel",
          "model_module_version": "1.5.0",
          "state": {
            "_model_module": "@jupyter-widgets/controls",
            "_model_module_version": "1.5.0",
            "_model_name": "DescriptionStyleModel",
            "_view_count": null,
            "_view_module": "@jupyter-widgets/base",
            "_view_module_version": "1.2.0",
            "_view_name": "StyleView",
            "description_width": ""
          }
        }
      }
    }
  },
  "cells": [
    {
      "cell_type": "code",
      "execution_count": null,
      "metadata": {
        "id": "DzWqmncmIvuB"
      },
      "outputs": [],
      "source": [
        "!pip install datasets faiss-cpu==1.7.4 chromadb==0.4.22 sentence-transformers==2.3.1"
      ]
    },
    {
      "cell_type": "code",
      "source": [
        "from datasets import load_dataset\n",
        "\n",
        "qna_dataset = load_dataset(\"sadeem-ai/arabic-qna\")\n",
        "\n",
        "news_dataset = load_dataset(\"arbml/SANAD\")"
      ],
      "metadata": {
        "id": "JUT_fFcrLxMe"
      },
      "execution_count": null,
      "outputs": []
    },
    {
      "cell_type": "code",
      "source": [
        "news_dataset = news_dataset.filter(lambda example: len(example[\"Text\"]) >= 100)\n",
        "news_dataset"
      ],
      "metadata": {
        "colab": {
          "base_uri": "https://localhost:8080/"
        },
        "id": "aEvkzVHCQxpD",
        "outputId": "b2427c48-a489-4b01-9338-3d10e97b3d01"
      },
      "execution_count": null,
      "outputs": [
        {
          "output_type": "execute_result",
          "data": {
            "text/plain": [
              "DatasetDict({\n",
              "    train: Dataset({\n",
              "        features: ['Text', 'label'],\n",
              "        num_rows: 288268\n",
              "    })\n",
              "})"
            ]
          },
          "metadata": {},
          "execution_count": 2
        }
      ]
    },
    {
      "cell_type": "code",
      "source": [
        "news_dataset = news_dataset.shuffle(seed=42)"
      ],
      "metadata": {
        "id": "YElADF8SRDAA"
      },
      "execution_count": null,
      "outputs": []
    },
    {
      "cell_type": "code",
      "source": [
        "qna_dataset = qna_dataset.filter(lambda example: example[\"has_answer\"] == True)"
      ],
      "metadata": {
        "id": "Dw3_64o6Ml0n"
      },
      "execution_count": null,
      "outputs": []
    },
    {
      "cell_type": "code",
      "source": [
        "doc_texts = qna_dataset[\"train\"][\"text\"] + news_dataset[\"train\"][:30_000][\"Text\"]\n",
        "doc_questions = qna_dataset[\"train\"][\"question\"]"
      ],
      "metadata": {
        "id": "ETkiF3hkNEzU"
      },
      "execution_count": null,
      "outputs": []
    },
    {
      "cell_type": "code",
      "source": [
        "len(doc_texts)"
      ],
      "metadata": {
        "colab": {
          "base_uri": "https://localhost:8080/"
        },
        "id": "Y9GwvWoaRiiL",
        "outputId": "25085980-beff-4d5e-9717-2582baa287ce"
      },
      "execution_count": null,
      "outputs": [
        {
          "output_type": "execute_result",
          "data": {
            "text/plain": [
              "34037"
            ]
          },
          "metadata": {},
          "execution_count": 8
        }
      ]
    },
    {
      "cell_type": "code",
      "source": [
        "metadata = [\n",
        "    {\n",
        "        \"source\": rec[\"source\"],\n",
        "        \"title\": rec[\"title\"]\n",
        "    }\n",
        "    for rec in qna_dataset[\"train\"]\n",
        "]\n",
        "\n",
        "metadata += [\n",
        "    {\n",
        "        \"source\": \"\",\n",
        "        \"title\": \"\",\n",
        "    }\n",
        "    for i in range(30_000)\n",
        " ]"
      ],
      "metadata": {
        "id": "d6OUvR_VNX-E"
      },
      "execution_count": null,
      "outputs": []
    },
    {
      "cell_type": "code",
      "source": [
        "len(metadata)"
      ],
      "metadata": {
        "colab": {
          "base_uri": "https://localhost:8080/"
        },
        "id": "jIbkq9IHSEle",
        "outputId": "5819783f-6c66-495d-de55-030e4247a0bc"
      },
      "execution_count": null,
      "outputs": [
        {
          "output_type": "execute_result",
          "data": {
            "text/plain": [
              "34037"
            ]
          },
          "metadata": {},
          "execution_count": 10
        }
      ]
    },
    {
      "cell_type": "code",
      "source": [
        "docs_ids = [\n",
        "    str(i)\n",
        "    for i in range( len(doc_texts) )\n",
        "]"
      ],
      "metadata": {
        "id": "6Xa1tyIDNxgc"
      },
      "execution_count": null,
      "outputs": []
    },
    {
      "cell_type": "code",
      "source": [
        "len(docs_ids)"
      ],
      "metadata": {
        "colab": {
          "base_uri": "https://localhost:8080/"
        },
        "id": "5t23V9DRSV5w",
        "outputId": "8021b0e9-9110-4e34-8593-0b42b1d12848"
      },
      "execution_count": null,
      "outputs": [
        {
          "output_type": "execute_result",
          "data": {
            "text/plain": [
              "34037"
            ]
          },
          "metadata": {},
          "execution_count": 12
        }
      ]
    },
    {
      "cell_type": "code",
      "source": [
        "doc_questions[49], docs_ids[49], metadata[49]"
      ],
      "metadata": {
        "colab": {
          "base_uri": "https://localhost:8080/"
        },
        "id": "BpbP0wxVHyCo",
        "outputId": "68f66eb1-7ad3-4dcf-af28-676f5ef0cdbc"
      },
      "execution_count": null,
      "outputs": [
        {
          "output_type": "execute_result",
          "data": {
            "text/plain": [
              "('ما عدد العقود في الردهة الكبيرة؟',\n",
              " '49',\n",
              " {'source': 'https://ar.wikipedia.org/wiki?curid=1291947',\n",
              "  'title': 'مسجد الجيوشي (القاهرة)'})"
            ]
          },
          "metadata": {},
          "execution_count": 27
        }
      ]
    },
    {
      "cell_type": "markdown",
      "source": [
        "## Text to Vectors"
      ],
      "metadata": {
        "id": "qCUhlC4CP4qq"
      }
    },
    {
      "cell_type": "code",
      "source": [
        "from sentence_transformers import SentenceTransformer\n",
        "\n",
        "model_id = \"sentence-transformers/distiluse-base-multilingual-cased-v2\"\n",
        "dim = 512\n",
        "\n",
        "# model_id = \"asafaya/bert-large-arabic\"\n",
        "# dim = 1024\n",
        "\n",
        "device = \"cuda:0\" # \"cpu\"\n",
        "\n",
        "model = SentenceTransformer(model_id, device=device)"
      ],
      "metadata": {
        "id": "dhd9IMajP8qR"
      },
      "execution_count": null,
      "outputs": []
    },
    {
      "cell_type": "code",
      "source": [
        "encoded_docs = model.encode(doc_texts, show_progress_bar=True)"
      ],
      "metadata": {
        "id": "OkMAj5g-RJB3",
        "colab": {
          "base_uri": "https://localhost:8080/",
          "height": 49,
          "referenced_widgets": [
            "2ec36fa102c24e2eb725b1a4d400d86d",
            "c0c7cef675a04a55b1152fab12cf804c",
            "7b5306cc30c5475180de8a718a94308f",
            "74a84fb598f443e1bff8968b5855cfdc",
            "9b552146a41449ecb2cd86a8aa474c9e",
            "3398b030fbab4c1d897f29c6598be793",
            "dd58a0b7b6ca4e8c8ae3998a0f56f714",
            "1df2cb5ce09341a48c398d0603f3db1c",
            "888ca6dc51e2426f9f8270dea108712e",
            "30e4d8adbcf041e9a793a514707e9e90",
            "3c35aa3814c34cfd96743630625fe726"
          ]
        },
        "outputId": "ad5d70d2-6eeb-4514-8755-1dd629a56ac2"
      },
      "execution_count": null,
      "outputs": [
        {
          "output_type": "display_data",
          "data": {
            "text/plain": [
              "Batches:   0%|          | 0/1064 [00:00<?, ?it/s]"
            ],
            "application/vnd.jupyter.widget-view+json": {
              "version_major": 2,
              "version_minor": 0,
              "model_id": "2ec36fa102c24e2eb725b1a4d400d86d"
            }
          },
          "metadata": {}
        }
      ]
    },
    {
      "cell_type": "code",
      "source": [
        "encoded_questions = model.encode(doc_questions, show_progress_bar=True)"
      ],
      "metadata": {
        "colab": {
          "base_uri": "https://localhost:8080/",
          "height": 49,
          "referenced_widgets": [
            "d04646c54f6e44db9576265f705fd2f7",
            "9e40f5fe9c0b416a96ea4e09e7ccb8bf",
            "d53144aa894d402ea23bff5ba7971b3f",
            "3b4270e717eb47b68e7f6adbee686631",
            "a9c36e61b5af4fe9901128b81c2f549c",
            "e55a4072c85947c8bd4b92f6c5127f44",
            "d5b8766dc4854e2c9ad1bb1e414a85f7",
            "ab1c7d6f2b904e9087c78958266e5098",
            "62053945c0834542bea1e6e1fa2df36c",
            "3193d090fbd8418ebbafc12b77998444",
            "f0a7ba18ea6b4e9d85e173828556d590"
          ]
        },
        "id": "7n4X5qS-Epql",
        "outputId": "34cfe5c3-fd54-4ae9-9f8d-eaa2bd4390ac"
      },
      "execution_count": null,
      "outputs": [
        {
          "output_type": "display_data",
          "data": {
            "text/plain": [
              "Batches:   0%|          | 0/127 [00:00<?, ?it/s]"
            ],
            "application/vnd.jupyter.widget-view+json": {
              "version_major": 2,
              "version_minor": 0,
              "model_id": "d04646c54f6e44db9576265f705fd2f7"
            }
          },
          "metadata": {}
        }
      ]
    },
    {
      "cell_type": "markdown",
      "source": [
        "## Vector Databases"
      ],
      "metadata": {
        "id": "Tx0LYb6DRkC5"
      }
    },
    {
      "cell_type": "markdown",
      "source": [
        "### ChromaDB"
      ],
      "metadata": {
        "id": "ps24oRz1Rmjf"
      }
    },
    {
      "cell_type": "code",
      "source": [
        "import chromadb\n",
        "\n",
        "chroma_client = chromadb.PersistentClient(path=\"./chromadb-ar-docs\")"
      ],
      "metadata": {
        "id": "6jdWt1evRmGj"
      },
      "execution_count": null,
      "outputs": []
    },
    {
      "cell_type": "code",
      "source": [
        "collection = chroma_client.create_collection(\n",
        "    name=\"ar_docs_34k\",\n",
        "    metadata={\"hnsw:space\": \"cosine\"}\n",
        ")"
      ],
      "metadata": {
        "id": "NujXW-6tSNVj"
      },
      "execution_count": null,
      "outputs": []
    },
    {
      "cell_type": "code",
      "source": [
        "collection.add(\n",
        "    documents=doc_texts,\n",
        "    embeddings=encoded_docs,\n",
        "    metadatas=metadata,\n",
        "    ids=docs_ids\n",
        ")"
      ],
      "metadata": {
        "id": "SUcY7RQNSqwS"
      },
      "execution_count": null,
      "outputs": []
    },
    {
      "cell_type": "code",
      "source": [
        "## Search\n",
        "question = \"ما السبب في صغر الأسنان بالمقارنة مع حجم الفكين؟\"\n",
        "question_embed = model.encode(question)\n",
        "\n",
        "results = collection.query(\n",
        "    query_embeddings=question_embed.tolist(),\n",
        "    n_results=3\n",
        ")\n",
        "\n",
        "print(results)"
      ],
      "metadata": {
        "id": "2yby9ORaTdAL",
        "colab": {
          "base_uri": "https://localhost:8080/"
        },
        "outputId": "45e710ae-3882-4642-c95e-7b0d78323117"
      },
      "execution_count": null,
      "outputs": [
        {
          "output_type": "stream",
          "name": "stdout",
          "text": [
            "{'ids': [['397', '1534', '30457']], 'distances': [[0.4194859266281128, 0.4194859266281128, 0.5500727891921997]], 'metadatas': [[{'source': 'https://ar.wikipedia.org/wiki?curid=7483665', 'title': 'صغر الأسنان'}, {'source': 'https://ar.wikipedia.org/wiki?curid=7483665', 'title': 'صغر الأسنان'}, {'source': '', 'title': ''}]], 'embeddings': None, 'documents': [['جميع الأسنان ذات حجم طبيعي ولكنها تبدو صغيرة بسبب ضخامة الفكين. قد يكون الصغر النسبي المعمم نتيجة وراثة فك كبير من أحد الوالدين، وأسنان ذات حجم طبيعي من الآخر.', 'جميع الأسنان ذات حجم طبيعي ولكنها تبدو صغيرة بسبب ضخامة الفكين. قد يكون الصغر النسبي المعمم نتيجة وراثة فك كبير من أحد الوالدين، وأسنان ذات حجم طبيعي من الآخر.', 'يعاني البعض من الحرج الشديد بسبب الاصفرار الذي يغطى أسنانهم. فما السبب وما الحل؟\\xa0اسباب تغير لون الأسنان:يتغير لون الأسنان ويميل إلى الأصفرار بسبب الصبغات الصفراء الموجودة في بعض المأكولات والمشروبات مثل القهوة والشاي والمياه الغازيه، والتوابل. حيث تمتص طبقة المينا التي تغطي الأسنان هذه الصبغات وتتحول تدريجيا إلى اللون الأصفر، كما ان لون الأسنان يميل للإصفرار مع تقدم السن.الحل:تنظيف الاسنان بعد كل وجبة طعام.الابتعاد عن الاطعمة الغنية بالصبغات الصناعية، مثل العلكة، بعض الحلويات الملونة، والمشروبات الملونة.تناول العصائر الحمضية بالقشة بعيدا عن التركيز على الاسنان الامامية.أجراء عملية تبييض للأسنان عن طبيب اسنان مختص.####عملية تبييض الاسنان:توصل الباحثون منذ فترة من الزمن إلى طريقة فعالة للتخلص من الملونات الصبغية التي تترسب على مينا الاسنان، ومع تقدم التقنيات العلمية، اصبح بالامكان إتمام العملية في المنزل تحت إشراف طبيب الأسنان وباتباع تعليماته. والطريقة سهلة وبسيطة، وتضمن عودة اللون الأبيض لأسنانك خلال مدة تتراوح من أسبوعين إلى ثلاثة أسابيع .إذا أردت تبييض أسنانك فما عليك سوى التوجة إلى طبيب الأسنان الذى يقوم بإجراء فحص شامل لصحة فمك وأسنانك ووضع خطة علاج ثم يقوم بعد ذلك بالحصول على طبعة للأسنان لعمل قالب خاص توضع فيه المادة المبيضة وسيزودك الطبيب بالتعليمات اللازمة عن كيفية وضع تلك المادة المبيضة داخل القالب ووضع القالب داخل الفم أثناء النوم.\\xa0هل توجد أية آثار جانبية لعملية تبييض الأسنان ؟ في بعض الحالات النادرة يمكن أن تكون الأسنان حساسة، وهنا يجب إستشارة الطبيب الاخصائي على الفور الذي سيزودك بمادة خاصة أو مضمضة للقضاء على هذه الحساسية.هل تصلح عملية تبييض الأسنان للجميع ؟ للأسف لن تنجح عملية تبييض الاسنان لبعض الاشخاص مثل المدخنين الشرهين، والمدمنين على المنبهات مثل الكحول والقهوة والشاي. كما يحظر إجراؤها أثناء فترة الحمل والرضاعة.']], 'uris': None, 'data': None}\n"
          ]
        }
      ]
    },
    {
      "cell_type": "markdown",
      "source": [
        "### FAISS"
      ],
      "metadata": {
        "id": "sODu4OUzUeP1"
      }
    },
    {
      "cell_type": "code",
      "source": [
        "import faiss\n",
        "import numpy as np\n",
        "from copy import deepcopy"
      ],
      "metadata": {
        "id": "tWTlFcI7Uf1i"
      },
      "execution_count": null,
      "outputs": []
    },
    {
      "cell_type": "code",
      "source": [
        "norm_encoded_docs = deepcopy(encoded_docs)\n",
        "faiss.normalize_L2(norm_encoded_docs)"
      ],
      "metadata": {
        "id": "8oSW1iqZVH2x"
      },
      "execution_count": null,
      "outputs": []
    },
    {
      "cell_type": "code",
      "source": [
        "faiss_index = faiss.IndexIDMap( faiss.IndexFlatIP(dim) )\n",
        "\n",
        "faiss_index.add_with_ids( norm_encoded_docs, docs_ids )"
      ],
      "metadata": {
        "id": "2q8uMz0LVWAL"
      },
      "execution_count": null,
      "outputs": []
    },
    {
      "cell_type": "code",
      "source": [
        "question = \"ما السبب في صغر الأسنان بالمقارنة مع حجم الفكين؟\"\n",
        "question_embed = model.encode([question])\n",
        "\n",
        "faiss.normalize_L2(question_embed)\n",
        "\n",
        "results = faiss_index.search(question_embed, 3)"
      ],
      "metadata": {
        "id": "7U_sA0e9WWem"
      },
      "execution_count": null,
      "outputs": []
    },
    {
      "cell_type": "code",
      "source": [
        "print(results)"
      ],
      "metadata": {
        "colab": {
          "base_uri": "https://localhost:8080/"
        },
        "id": "Ygw8T-M0oT_P",
        "outputId": "a612fa4e-b53f-44a9-aa4d-9b88abf0b431"
      },
      "execution_count": null,
      "outputs": [
        {
          "output_type": "stream",
          "name": "stdout",
          "text": [
            "(array([[0.5805141 , 0.5805141 , 0.44992718]], dtype=float32), array([[ 1534,   397, 30457]]))\n"
          ]
        }
      ]
    },
    {
      "cell_type": "code",
      "source": [
        "## Save\n",
        "import pickle\n",
        "\n",
        "with open(\"./faiss-ar-docs/index.pickle\", \"wb\") as handle:\n",
        "    pickle.dump(faiss_index, handle, protocol=pickle.HIGHEST_PROTOCOL)\n",
        "\n",
        "with open(\"./faiss-ar-docs/data.pickle\", \"wb\") as handle:\n",
        "    pickle.dump({\n",
        "        \"data\": doc_texts,\n",
        "        \"docs_ids\": docs_ids,\n",
        "        \"metadata\": metadata\n",
        "    }, handle, protocol=pickle.HIGHEST_PROTOCOL)"
      ],
      "metadata": {
        "id": "SZDp87-CW6Lb"
      },
      "execution_count": null,
      "outputs": []
    },
    {
      "cell_type": "code",
      "source": [
        "## Load\n",
        "import pickle\n",
        "\n",
        "with open(\"./faiss-ar-docs/index.pickle\", \"rb\") as handle:\n",
        "    loaded_faiss_index = pickle.load(handle)\n",
        "\n",
        "with open(\"./faiss-ar-docs/data.pickle\", \"rb\") as handle:\n",
        "    loaded_faiss_data = pickle.load(handle)"
      ],
      "metadata": {
        "id": "9kFXH6oJXwRm"
      },
      "execution_count": null,
      "outputs": []
    },
    {
      "cell_type": "markdown",
      "source": [
        "## Let's Compare"
      ],
      "metadata": {
        "id": "t-HocuQVYKN6"
      }
    },
    {
      "cell_type": "markdown",
      "source": [
        "### Retrieving Speed"
      ],
      "metadata": {
        "id": "sUBSyh-HAimm"
      }
    },
    {
      "cell_type": "code",
      "source": [
        "import time"
      ],
      "metadata": {
        "id": "Rwim5fdUAmQC"
      },
      "execution_count": null,
      "outputs": []
    },
    {
      "cell_type": "markdown",
      "source": [
        "**Dim: 512**\n",
        "\n",
        "---------\n",
        "`ChromaDB`: 4037 -\n",
        "12.698187112\n",
        "\n",
        "`FIASS`: 4037 -\n",
        "2.043501231999997\n",
        "\n",
        "---------\n",
        "**Dim: 1024**\n",
        "\n",
        "`ChromaDB`: 4037\n",
        "15.938859471999997\n",
        "\n",
        "`FIASS`: 4037\n",
        "4.1828746040000055\n"
      ],
      "metadata": {
        "id": "vree23j_M3BE"
      }
    },
    {
      "cell_type": "code",
      "source": [
        "t0 = time.process_time()\n",
        "\n",
        "for i in range(len(doc_questions)):\n",
        "\n",
        "    ques = encoded_questions[i]\n",
        "\n",
        "    results = collection.query(\n",
        "        query_embeddings=ques.tolist(),\n",
        "        n_results=3\n",
        "    )\n",
        "\n",
        "print(\"ChromaDB:\", len(doc_questions))\n",
        "print(time.process_time() - t0)"
      ],
      "metadata": {
        "colab": {
          "base_uri": "https://localhost:8080/"
        },
        "id": "X-7x3f2WE_dn",
        "outputId": "331bf839-3d3e-4479-922c-e4019b602ad7"
      },
      "execution_count": null,
      "outputs": [
        {
          "output_type": "stream",
          "name": "stdout",
          "text": [
            "ChromaDB: 4037\n",
            "13.255644789000002\n"
          ]
        }
      ]
    },
    {
      "cell_type": "code",
      "source": [
        "t0 = time.process_time()\n",
        "\n",
        "for i in range(len(doc_questions)):\n",
        "\n",
        "    ques = encoded_questions[i].reshape(1, dim)\n",
        "\n",
        "    faiss.normalize_L2(ques)\n",
        "\n",
        "    results = faiss_index.search(ques, 3)\n",
        "\n",
        "\n",
        "print(\"FIASS:\", len(doc_questions))\n",
        "print(time.process_time() - t0)"
      ],
      "metadata": {
        "colab": {
          "base_uri": "https://localhost:8080/"
        },
        "id": "2nqpGfsIFruu",
        "outputId": "d38eac23-3f54-42a5-d53b-32c83852e79a"
      },
      "execution_count": null,
      "outputs": [
        {
          "output_type": "stream",
          "name": "stdout",
          "text": [
            "FIASS: 4037\n",
            "24.845981306\n"
          ]
        }
      ]
    },
    {
      "cell_type": "markdown",
      "source": [
        "### Accuracy"
      ],
      "metadata": {
        "id": "IWiJSgAxGiJX"
      }
    },
    {
      "cell_type": "markdown",
      "source": [
        "`ChromaDB`\n",
        "\n",
        "```\n",
        "Model ID: sentence-transformers/distiluse-base-multilingual-cased-v2\n",
        "----\n",
        "Valid: 1201\n",
        "Valid%: 0.2974981421847907\n",
        "----\n",
        "Similar: 864\n",
        "Similar%: 0.21402031211295516\n",
        "----\n",
        "InValid: 1972\n",
        "InValid%: 0.48848154570225416\n",
        "----\n",
        "\n",
        "\n",
        "Model ID: asafaya/bert-large-arabic\n",
        "----\n",
        "Valid: 586\n",
        "Valid%: 0.14515729502105523\n",
        "----\n",
        "Similar: 427\n",
        "Similar%: 0.10577161258360168\n",
        "----\n",
        "InValid: 3024\n",
        "InValid%: 0.7490710923953431\n",
        "----\n",
        "\n",
        "```\n",
        "\n",
        "`FAISS`\n",
        "\n",
        "```\n",
        "Model ID: sentence-transformers/distiluse-base-multilingual-cased-v2\n",
        "----\n",
        "Valid: 1374\n",
        "Valid%: 0.3403517463462968\n",
        "----\n",
        "Similar: 947\n",
        "Similar%: 0.23458013376269507\n",
        "----\n",
        "InValid: 1716\n",
        "InValid%: 0.4250681198910082\n",
        "----\n",
        "\n",
        "Model ID: asafaya/bert-large-arabic\n",
        "----\n",
        "Valid: 703\n",
        "Valid%: 0.17413921228635126\n",
        "----\n",
        "Similar: 518\n",
        "Similar%: 0.12831310378994304\n",
        "----\n",
        "InValid: 2816\n",
        "InValid%: 0.6975476839237057\n",
        "----\n",
        "```"
      ],
      "metadata": {
        "id": "ZJdm_LxBNfTo"
      }
    },
    {
      "cell_type": "code",
      "source": [
        "chroma_results = []\n",
        "\n",
        "for i in range(len(doc_questions)):\n",
        "\n",
        "    ques = encoded_questions[i]\n",
        "\n",
        "    results = collection.query(\n",
        "        query_embeddings=ques.tolist(),\n",
        "        n_results=3\n",
        "    )\n",
        "\n",
        "    chroma_results.append(results)"
      ],
      "metadata": {
        "id": "VMQXJd5gGjjM"
      },
      "execution_count": null,
      "outputs": []
    },
    {
      "cell_type": "code",
      "source": [
        "chroma_insights = {\n",
        "    \"valid\": 0,\n",
        "    \"similar\": 0,\n",
        "    \"invalid\": 0\n",
        "}\n",
        "\n",
        "for i in range(len(doc_questions)):\n",
        "    true_id = docs_ids[i]\n",
        "    pred_id = chroma_results[i][\"ids\"][0][0]\n",
        "\n",
        "    true_source = metadata[i][\"source\"]\n",
        "    pred_source = metadata[int(pred_id)][\"source\"]\n",
        "\n",
        "    if str(true_id) == str(pred_id):\n",
        "        chroma_insights[\"valid\"] += 1\n",
        "\n",
        "    elif true_source == pred_source:\n",
        "        chroma_insights[\"similar\"] += 1\n",
        "\n",
        "    else:\n",
        "        chroma_insights[\"invalid\"] += 1\n",
        "\n",
        "chroma_insights[\"valid_percentage\"] = chroma_insights[\"valid\"]/len(doc_questions)\n",
        "chroma_insights[\"similar_percentage\"] = chroma_insights[\"similar\"]/len(doc_questions)\n",
        "chroma_insights[\"invalid_percentage\"] = chroma_insights[\"invalid\"]/len(doc_questions)\n",
        "\n",
        "print(\"Model ID:\", model_id)\n",
        "print(\"----\")\n",
        "print(\"Valid:\", chroma_insights[\"valid\"])\n",
        "print(\"Valid%:\", chroma_insights[\"valid_percentage\"])\n",
        "print(\"----\")\n",
        "print(\"Similar:\", chroma_insights[\"similar\"])\n",
        "print(\"Similar%:\", chroma_insights[\"similar_percentage\"])\n",
        "print(\"----\")\n",
        "print(\"InValid:\", chroma_insights[\"invalid\"])\n",
        "print(\"InValid%:\", chroma_insights[\"invalid_percentage\"])\n",
        "print(\"----\")"
      ],
      "metadata": {
        "colab": {
          "base_uri": "https://localhost:8080/"
        },
        "id": "5mm7bZdRIHso",
        "outputId": "1fda6629-8cee-4b72-c1d7-3eef7399f6c2"
      },
      "execution_count": null,
      "outputs": [
        {
          "output_type": "stream",
          "name": "stdout",
          "text": [
            "Model ID: sentence-transformers/distiluse-base-multilingual-cased-v2\n",
            "----\n",
            "Valid: 748\n",
            "Valid%: 0.18528610354223432\n",
            "----\n",
            "Similar: 514\n",
            "Similar%: 0.12732226901164231\n",
            "----\n",
            "InValid: 2775\n",
            "InValid%: 0.6873916274461234\n",
            "----\n"
          ]
        }
      ]
    },
    {
      "cell_type": "code",
      "source": [
        "faiss_results = []\n",
        "\n",
        "for i in range(len(doc_questions)):\n",
        "\n",
        "    ques = encoded_questions[i].reshape(1, dim)\n",
        "\n",
        "    faiss.normalize_L2(ques)\n",
        "\n",
        "    scores, ids = faiss_index.search(ques, 3)\n",
        "\n",
        "    faiss_results.append({\n",
        "        \"scores\": scores,\n",
        "        \"ids\": ids\n",
        "    })\n"
      ],
      "metadata": {
        "id": "b6dkfzEGG2oi"
      },
      "execution_count": null,
      "outputs": []
    },
    {
      "cell_type": "code",
      "source": [
        "faiss_insights = {\n",
        "    \"valid\": 0,\n",
        "    \"similar\": 0,\n",
        "    \"invalid\": 0\n",
        "}\n",
        "\n",
        "for i in range(len(doc_questions)):\n",
        "    true_id = docs_ids[i]\n",
        "    pred_id = faiss_results[i][\"ids\"][0][0]\n",
        "\n",
        "    true_source = metadata[i][\"source\"]\n",
        "    pred_source = metadata[int(pred_id)][\"source\"]\n",
        "\n",
        "    if str(true_id) == str(pred_id):\n",
        "        faiss_insights[\"valid\"] += 1\n",
        "\n",
        "    elif true_source == pred_source:\n",
        "        faiss_insights[\"similar\"] += 1\n",
        "\n",
        "    else:\n",
        "        faiss_insights[\"invalid\"] += 1\n",
        "\n",
        "\n",
        "faiss_insights[\"valid_percentage\"] = faiss_insights[\"valid\"]/len(doc_questions)\n",
        "faiss_insights[\"similar_percentage\"] = faiss_insights[\"similar\"]/len(doc_questions)\n",
        "faiss_insights[\"invalid_percentage\"] = faiss_insights[\"invalid\"]/len(doc_questions)\n",
        "\n",
        "\n",
        "print(\"Model ID:\", model_id)\n",
        "print(\"----\")\n",
        "print(\"Valid:\", faiss_insights[\"valid\"])\n",
        "print(\"Valid%:\", faiss_insights[\"valid_percentage\"])\n",
        "print(\"----\")\n",
        "print(\"Similar:\", faiss_insights[\"similar\"])\n",
        "print(\"Similar%:\", faiss_insights[\"similar_percentage\"])\n",
        "print(\"----\")\n",
        "print(\"InValid:\", faiss_insights[\"invalid\"])\n",
        "print(\"InValid%:\", faiss_insights[\"invalid_percentage\"])\n",
        "print(\"----\")"
      ],
      "metadata": {
        "colab": {
          "base_uri": "https://localhost:8080/"
        },
        "id": "X9703HL0KlSK",
        "outputId": "f17cde89-a668-4d8f-f494-6a0f081c453f"
      },
      "execution_count": null,
      "outputs": [
        {
          "output_type": "stream",
          "name": "stdout",
          "text": [
            "Model ID: sentence-transformers/distiluse-base-multilingual-cased-v2\n",
            "----\n",
            "Valid: 907\n",
            "Valid%: 0.2246717859796879\n",
            "----\n",
            "Similar: 638\n",
            "Similar%: 0.15803814713896458\n",
            "----\n",
            "InValid: 2492\n",
            "InValid%: 0.6172900668813476\n",
            "----\n"
          ]
        }
      ]
    }
  ]
}